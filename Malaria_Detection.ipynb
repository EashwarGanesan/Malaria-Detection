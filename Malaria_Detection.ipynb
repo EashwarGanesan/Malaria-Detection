{
  "nbformat": 4,
  "nbformat_minor": 0,
  "metadata": {
    "colab": {
      "name": "Malaria Detection.ipynb",
      "provenance": [],
      "collapsed_sections": []
    },
    "kernelspec": {
      "name": "python3",
      "display_name": "Python 3"
    },
    "accelerator": "GPU"
  },
  "cells": [
    {
      "cell_type": "code",
      "metadata": {
        "id": "XwTusuD6hjrK",
        "colab_type": "code",
        "colab": {}
      },
      "source": [
        "import pandas as pd\n",
        "import numpy as np"
      ],
      "execution_count": 1,
      "outputs": []
    },
    {
      "cell_type": "code",
      "metadata": {
        "id": "cWy6QiWWPNLQ",
        "colab_type": "code",
        "colab": {
          "base_uri": "https://localhost:8080/",
          "height": 34
        },
        "outputId": "dd8870da-a44c-46e5-f158-4d6b56bf1993"
      },
      "source": [
        "from keras.applications.vgg19 import VGG19"
      ],
      "execution_count": 2,
      "outputs": [
        {
          "output_type": "stream",
          "text": [
            "Using TensorFlow backend.\n"
          ],
          "name": "stderr"
        }
      ]
    },
    {
      "cell_type": "code",
      "metadata": {
        "id": "JqDRmyraQKOZ",
        "colab_type": "code",
        "colab": {}
      },
      "source": [
        "import cv2"
      ],
      "execution_count": 3,
      "outputs": []
    },
    {
      "cell_type": "code",
      "metadata": {
        "id": "xzeZ_7vXQOYJ",
        "colab_type": "code",
        "colab": {}
      },
      "source": [
        "import os"
      ],
      "execution_count": 4,
      "outputs": []
    },
    {
      "cell_type": "code",
      "metadata": {
        "id": "eICFF7_CQejl",
        "colab_type": "code",
        "colab": {}
      },
      "source": [
        "from imutils import paths"
      ],
      "execution_count": 5,
      "outputs": []
    },
    {
      "cell_type": "code",
      "metadata": {
        "id": "_h3eSnlgXwD3",
        "colab_type": "code",
        "colab": {}
      },
      "source": [
        "import matplotlib.pyplot as plt\n",
        "%matplotlib inline"
      ],
      "execution_count": 6,
      "outputs": []
    },
    {
      "cell_type": "code",
      "metadata": {
        "id": "Kbo9fa95QkmP",
        "colab_type": "code",
        "colab": {}
      },
      "source": [
        "infected=list(paths.list_images('/content/drive/My Drive/Malaria/cell_images/Parasitized'))"
      ],
      "execution_count": 7,
      "outputs": []
    },
    {
      "cell_type": "code",
      "metadata": {
        "id": "u4lZMMqPT3oX",
        "colab_type": "code",
        "colab": {}
      },
      "source": [
        "normal=list(paths.list_images('/content/drive/My Drive/Malaria/cell_images/Uninfected'))"
      ],
      "execution_count": 8,
      "outputs": []
    },
    {
      "cell_type": "code",
      "metadata": {
        "id": "quRRFb7gT_hj",
        "colab_type": "code",
        "colab": {
          "base_uri": "https://localhost:8080/",
          "height": 34
        },
        "outputId": "3b622ad6-01e6-45c6-f845-b4346ae574d0"
      },
      "source": [
        "print(\"Number of Infected images:\",len(infected))"
      ],
      "execution_count": 9,
      "outputs": [
        {
          "output_type": "stream",
          "text": [
            "Number of Infected images: 2150\n"
          ],
          "name": "stdout"
        }
      ]
    },
    {
      "cell_type": "code",
      "metadata": {
        "id": "TvCES-TSUO4T",
        "colab_type": "code",
        "colab": {
          "base_uri": "https://localhost:8080/",
          "height": 34
        },
        "outputId": "aba1da42-8204-40af-f4b6-35465505b342"
      },
      "source": [
        "print(\"Number of Normal images:\",len(normal))"
      ],
      "execution_count": 10,
      "outputs": [
        {
          "output_type": "stream",
          "text": [
            "Number of Normal images: 2190\n"
          ],
          "name": "stdout"
        }
      ]
    },
    {
      "cell_type": "code",
      "metadata": {
        "id": "EaKP6hZDU5Sn",
        "colab_type": "code",
        "colab": {}
      },
      "source": [
        "labels=[]"
      ],
      "execution_count": 11,
      "outputs": []
    },
    {
      "cell_type": "code",
      "metadata": {
        "id": "z7AAQWfrU8vI",
        "colab_type": "code",
        "colab": {}
      },
      "source": [
        ""
      ],
      "execution_count": 11,
      "outputs": []
    },
    {
      "cell_type": "code",
      "metadata": {
        "id": "H30CTIHjXEH4",
        "colab_type": "code",
        "colab": {
          "base_uri": "https://localhost:8080/",
          "height": 35
        },
        "outputId": "7014794d-1031-49ee-bf34-bb630bda9cc0"
      },
      "source": [
        "normal[1]"
      ],
      "execution_count": 12,
      "outputs": [
        {
          "output_type": "execute_result",
          "data": {
            "application/vnd.google.colaboratory.intrinsic": {
              "type": "string"
            },
            "text/plain": [
              "'/content/drive/My Drive/Malaria/cell_images/Uninfected/Uninfected/C129P90ThinF_IMG_20151004_134306_cell_52.png'"
            ]
          },
          "metadata": {
            "tags": []
          },
          "execution_count": 12
        }
      ]
    },
    {
      "cell_type": "code",
      "metadata": {
        "id": "_5oQe21qXH-r",
        "colab_type": "code",
        "colab": {}
      },
      "source": [
        "image_sample_normal=cv2.imread(normal[1])"
      ],
      "execution_count": 13,
      "outputs": []
    },
    {
      "cell_type": "code",
      "metadata": {
        "id": "hEBWImE8X2Gk",
        "colab_type": "code",
        "colab": {
          "base_uri": "https://localhost:8080/",
          "height": 298
        },
        "outputId": "d3e0014f-76b3-496d-8e97-976938afeea5"
      },
      "source": [
        "plt.imshow(image_sample_normal)\n",
        "plt.title('Normal')"
      ],
      "execution_count": 14,
      "outputs": [
        {
          "output_type": "execute_result",
          "data": {
            "text/plain": [
              "Text(0.5, 1.0, 'Normal')"
            ]
          },
          "metadata": {
            "tags": []
          },
          "execution_count": 14
        },
        {
          "output_type": "display_data",
          "data": {
            "image/png": "[encoded data removed]",
            "text/plain": [
              "<Figure size 432x288 with 1 Axes>"
            ]
          },
          "metadata": {
            "tags": [],
            "needs_background": "light"
          }
        }
      ]
    },
    {
      "cell_type": "code",
      "metadata": {
        "id": "TlqdrMWdX_ED",
        "colab_type": "code",
        "colab": {}
      },
      "source": [
        "image_sample_infected=cv2.imread(infected[1])"
      ],
      "execution_count": 15,
      "outputs": []
    },
    {
      "cell_type": "code",
      "metadata": {
        "id": "Gr1CD9VNYGa9",
        "colab_type": "code",
        "colab": {
          "base_uri": "https://localhost:8080/",
          "height": 298
        },
        "outputId": "7f46cb1c-e9a7-4432-8b03-ce31d34edb2b"
      },
      "source": [
        "plt.imshow(image_sample_infected)\n",
        "plt.title('Infected')"
      ],
      "execution_count": 16,
      "outputs": [
        {
          "output_type": "execute_result",
          "data": {
            "text/plain": [
              "Text(0.5, 1.0, 'Infected')"
            ]
          },
          "metadata": {
            "tags": []
          },
          "execution_count": 16
        },
        {
          "output_type": "display_data",
          "data": {
            "image/png": "[encoded data removed]",
            "text/plain": [
              "<Figure size 432x288 with 1 Axes>"
            ]
          },
          "metadata": {
            "tags": [],
            "needs_background": "light"
          }
        }
      ]
    },
    {
      "cell_type": "code",
      "metadata": {
        "id": "N0hzMIbgYwlZ",
        "colab_type": "code",
        "colab": {}
      },
      "source": [
        "images=[]\n"
      ],
      "execution_count": 17,
      "outputs": []
    },
    {
      "cell_type": "code",
      "metadata": {
        "id": "fawYZOiijNt5",
        "colab_type": "code",
        "colab": {}
      },
      "source": [
        "labels=[]"
      ],
      "execution_count": 18,
      "outputs": []
    },
    {
      "cell_type": "code",
      "metadata": {
        "id": "itOD5p5xUeK9",
        "colab_type": "code",
        "colab": {}
      },
      "source": [
        "for i in range(1500):\n",
        "  label=infected[i].split(os.path.sep)[-2]\n",
        "  labels.append(label)\n",
        "  #Reading Images\n",
        "  img=cv2.imread(infected[i])\n",
        "  img=cv2.cvtColor(img,cv2.COLOR_BGR2RGB)\n",
        "  img=cv2.resize(img,(224,224))\n",
        "  images.append(img)\n",
        "\n"
      ],
      "execution_count": 19,
      "outputs": []
    },
    {
      "cell_type": "code",
      "metadata": {
        "id": "mqbMbOBlY91N",
        "colab_type": "code",
        "colab": {}
      },
      "source": [
        "for i in range(1500):\n",
        "\n",
        "  label=normal[i].split(os.path.sep)[-2]\n",
        "  labels.append(label)\n",
        "\n",
        "  img=cv2.imread(normal[i])\n",
        "  img=cv2.cvtColor(img,cv2.COLOR_BGR2RGB)\n",
        "  img=cv2.resize(img,(224,224))\n",
        "  images.append(img)"
      ],
      "execution_count": 20,
      "outputs": []
    },
    {
      "cell_type": "code",
      "metadata": {
        "id": "XzJq8jxSdY6s",
        "colab_type": "code",
        "colab": {}
      },
      "source": [
        "images1=[]\n",
        "labels1=[]"
      ],
      "execution_count": 21,
      "outputs": []
    },
    {
      "cell_type": "code",
      "metadata": {
        "id": "XV8I771Hhwoj",
        "colab_type": "code",
        "colab": {}
      },
      "source": [
        "images=np.array(images)/255.0"
      ],
      "execution_count": 22,
      "outputs": []
    },
    {
      "cell_type": "code",
      "metadata": {
        "id": "0HVh_-IAieAk",
        "colab_type": "code",
        "colab": {
          "base_uri": "https://localhost:8080/",
          "height": 34
        },
        "outputId": "4526f166-80d8-43d6-e742-73a917f55670"
      },
      "source": [
        "images.shape"
      ],
      "execution_count": 23,
      "outputs": [
        {
          "output_type": "execute_result",
          "data": {
            "text/plain": [
              "(3000, 224, 224, 3)"
            ]
          },
          "metadata": {
            "tags": []
          },
          "execution_count": 23
        }
      ]
    },
    {
      "cell_type": "code",
      "metadata": {
        "id": "pa_H3yvrihRA",
        "colab_type": "code",
        "colab": {}
      },
      "source": [
        "images1=images"
      ],
      "execution_count": 24,
      "outputs": []
    },
    {
      "cell_type": "code",
      "metadata": {
        "id": "gOEnPGiai78V",
        "colab_type": "code",
        "colab": {
          "base_uri": "https://localhost:8080/",
          "height": 34
        },
        "outputId": "724cbb4a-257b-4aeb-d207-135afc792e2f"
      },
      "source": [
        "images1.shape"
      ],
      "execution_count": 25,
      "outputs": [
        {
          "output_type": "execute_result",
          "data": {
            "text/plain": [
              "(3000, 224, 224, 3)"
            ]
          },
          "metadata": {
            "tags": []
          },
          "execution_count": 25
        }
      ]
    },
    {
      "cell_type": "code",
      "metadata": {
        "id": "lisKqQNxi9l4",
        "colab_type": "code",
        "colab": {}
      },
      "source": [
        "labels1=labels"
      ],
      "execution_count": 26,
      "outputs": []
    },
    {
      "cell_type": "code",
      "metadata": {
        "id": "GQ1IZhNnjBBo",
        "colab_type": "code",
        "colab": {
          "base_uri": "https://localhost:8080/",
          "height": 34
        },
        "outputId": "07a78282-efe2-49ee-bce8-7cccb266937e"
      },
      "source": [
        "len(labels1)"
      ],
      "execution_count": 27,
      "outputs": [
        {
          "output_type": "execute_result",
          "data": {
            "text/plain": [
              "3000"
            ]
          },
          "metadata": {
            "tags": []
          },
          "execution_count": 27
        }
      ]
    },
    {
      "cell_type": "code",
      "metadata": {
        "id": "wS7EHj9CjhuT",
        "colab_type": "code",
        "colab": {}
      },
      "source": [
        "from sklearn.preprocessing import LabelEncoder"
      ],
      "execution_count": 28,
      "outputs": []
    },
    {
      "cell_type": "code",
      "metadata": {
        "id": "-K5NrsfWkQKT",
        "colab_type": "code",
        "colab": {}
      },
      "source": [
        "label=LabelEncoder()"
      ],
      "execution_count": 29,
      "outputs": []
    },
    {
      "cell_type": "code",
      "metadata": {
        "id": "77NptBc-kSRo",
        "colab_type": "code",
        "colab": {}
      },
      "source": [
        "labels1=label.fit_transform(labels1)"
      ],
      "execution_count": 30,
      "outputs": []
    },
    {
      "cell_type": "code",
      "metadata": {
        "id": "hzou_QOzlP_w",
        "colab_type": "code",
        "colab": {}
      },
      "source": [
        "X=images1"
      ],
      "execution_count": 31,
      "outputs": []
    },
    {
      "cell_type": "code",
      "metadata": {
        "id": "-H0D448ElUk1",
        "colab_type": "code",
        "colab": {}
      },
      "source": [
        "y=labels1"
      ],
      "execution_count": 32,
      "outputs": []
    },
    {
      "cell_type": "code",
      "metadata": {
        "id": "irB-fBd3kiyb",
        "colab_type": "code",
        "colab": {}
      },
      "source": [
        "from sklearn.model_selection import train_test_split"
      ],
      "execution_count": 33,
      "outputs": []
    },
    {
      "cell_type": "code",
      "metadata": {
        "id": "wfASe3lmkrr_",
        "colab_type": "code",
        "colab": {}
      },
      "source": [
        "X_train1, X_test, y_train1, y_test = train_test_split(X, y, test_size=0.2, random_state=99)"
      ],
      "execution_count": 34,
      "outputs": []
    },
    {
      "cell_type": "code",
      "metadata": {
        "id": "cCoHuCSDlZ20",
        "colab_type": "code",
        "colab": {
          "base_uri": "https://localhost:8080/",
          "height": 34
        },
        "outputId": "9e62667e-2218-4110-b2f7-75f28fbd33f2"
      },
      "source": [
        "print(X_train1.shape,X_test.shape)"
      ],
      "execution_count": 35,
      "outputs": [
        {
          "output_type": "stream",
          "text": [
            "(2400, 224, 224, 3) (600, 224, 224, 3)\n"
          ],
          "name": "stdout"
        }
      ]
    },
    {
      "cell_type": "code",
      "metadata": {
        "id": "X1cGycIFu-ML",
        "colab_type": "code",
        "colab": {
          "base_uri": "https://localhost:8080/",
          "height": 34
        },
        "outputId": "fe76a78e-b11e-48d7-c40e-4c83c5ea91df"
      },
      "source": [
        "y_train1.shape"
      ],
      "execution_count": 36,
      "outputs": [
        {
          "output_type": "execute_result",
          "data": {
            "text/plain": [
              "(2400,)"
            ]
          },
          "metadata": {
            "tags": []
          },
          "execution_count": 36
        }
      ]
    },
    {
      "cell_type": "code",
      "metadata": {
        "id": "dWODh8CSlhoT",
        "colab_type": "code",
        "colab": {}
      },
      "source": [
        "X_train, X_val, y_train, y_val = train_test_split(X_train1, y_train1, test_size=0.2, random_state=99)"
      ],
      "execution_count": 37,
      "outputs": []
    },
    {
      "cell_type": "code",
      "metadata": {
        "id": "E_zTvvJClsUZ",
        "colab_type": "code",
        "colab": {
          "base_uri": "https://localhost:8080/",
          "height": 34
        },
        "outputId": "07130c55-6e84-4400-ce0c-6ec347edf4de"
      },
      "source": [
        "print(X_train.shape,X_val.shape)"
      ],
      "execution_count": 38,
      "outputs": [
        {
          "output_type": "stream",
          "text": [
            "(1920, 224, 224, 3) (480, 224, 224, 3)\n"
          ],
          "name": "stdout"
        }
      ]
    },
    {
      "cell_type": "code",
      "metadata": {
        "id": "IDYEHab58h9W",
        "colab_type": "code",
        "colab": {}
      },
      "source": [
        "from keras.applications.vgg19 import VGG19"
      ],
      "execution_count": 39,
      "outputs": []
    },
    {
      "cell_type": "code",
      "metadata": {
        "id": "Jj0KA-wSlx2k",
        "colab_type": "code",
        "colab": {}
      },
      "source": [
        "from keras.models import Model"
      ],
      "execution_count": 40,
      "outputs": []
    },
    {
      "cell_type": "code",
      "metadata": {
        "id": "93Xyk1Vsw8Fu",
        "colab_type": "code",
        "colab": {}
      },
      "source": [
        "from keras.layers import Dense,Conv2D,MaxPool2D,Flatten,Dropout"
      ],
      "execution_count": 41,
      "outputs": []
    },
    {
      "cell_type": "code",
      "metadata": {
        "id": "OgrfRK40xNOc",
        "colab_type": "code",
        "colab": {}
      },
      "source": [
        "from keras.optimizers import Adam"
      ],
      "execution_count": 42,
      "outputs": []
    },
    {
      "cell_type": "code",
      "metadata": {
        "id": "oQaGeJex25UJ",
        "colab_type": "code",
        "colab": {}
      },
      "source": [
        "from keras.preprocessing.image import ImageDataGenerator"
      ],
      "execution_count": 43,
      "outputs": []
    },
    {
      "cell_type": "code",
      "metadata": {
        "id": "1VsQ7HLzxSEJ",
        "colab_type": "code",
        "colab": {
          "base_uri": "https://localhost:8080/",
          "height": 71
        },
        "outputId": "f0bb98d5-4ceb-4ae5-ec55-e94b59e07419"
      },
      "source": [
        "vgg19=VGG19(include_top=False,weights='imagenet',input_shape=(224,224,3),pooling='max')"
      ],
      "execution_count": 44,
      "outputs": [
        {
          "output_type": "stream",
          "text": [
            "Downloading data from https://github.com/fchollet/deep-learning-models/releases/download/v0.1/vgg19_weights_tf_dim_ordering_tf_kernels_notop.h5\n",
            "80142336/80134624 [==============================] - 3s 0us/step\n"
          ],
          "name": "stdout"
        }
      ]
    },
    {
      "cell_type": "code",
      "metadata": {
        "id": "SmYEpDUzxiis",
        "colab_type": "code",
        "colab": {}
      },
      "source": [
        "for i in vgg19.layers:\n",
        "  i.trainable=False"
      ],
      "execution_count": 45,
      "outputs": []
    },
    {
      "cell_type": "code",
      "metadata": {
        "id": "_-anPd6kxpaZ",
        "colab_type": "code",
        "colab": {}
      },
      "source": [
        "layer1=Dense(50,activation='relu')(vgg19.output)"
      ],
      "execution_count": 46,
      "outputs": []
    },
    {
      "cell_type": "code",
      "metadata": {
        "id": "XUObGXxexzuN",
        "colab_type": "code",
        "colab": {}
      },
      "source": [
        "layer2=Dropout(0.3)(layer1)"
      ],
      "execution_count": 47,
      "outputs": []
    },
    {
      "cell_type": "code",
      "metadata": {
        "id": "Nba9X8mhx_j3",
        "colab_type": "code",
        "colab": {}
      },
      "source": [
        "layer3=Dense(30,activation='relu')(layer2)"
      ],
      "execution_count": 48,
      "outputs": []
    },
    {
      "cell_type": "code",
      "metadata": {
        "id": "u5tkYLJnyFqs",
        "colab_type": "code",
        "colab": {}
      },
      "source": [
        "layer4=Dropout(0.4)(layer3)"
      ],
      "execution_count": 49,
      "outputs": []
    },
    {
      "cell_type": "code",
      "metadata": {
        "id": "VJlZNjCcyL3d",
        "colab_type": "code",
        "colab": {}
      },
      "source": [
        "output_layer=Dense(1,activation='sigmoid')(layer4)"
      ],
      "execution_count": 50,
      "outputs": []
    },
    {
      "cell_type": "code",
      "metadata": {
        "id": "KRQkVaBNyQU3",
        "colab_type": "code",
        "colab": {}
      },
      "source": [
        "model=Model(inputs=vgg19.input,outputs=output_layer)"
      ],
      "execution_count": 51,
      "outputs": []
    },
    {
      "cell_type": "code",
      "metadata": {
        "id": "gILcEyInye8o",
        "colab_type": "code",
        "colab": {
          "base_uri": "https://localhost:8080/",
          "height": 1000
        },
        "outputId": "0504cd4e-fa2b-4319-db16-a2e6ccdc587f"
      },
      "source": [
        "model.summary()"
      ],
      "execution_count": 52,
      "outputs": [
        {
          "output_type": "stream",
          "text": [
            "Model: \"model_1\"\n",
            "_________________________________________________________________\n",
            "Layer (type)                 Output Shape              Param #   \n",
            "=================================================================\n",
            "input_1 (InputLayer)         (None, 224, 224, 3)       0         \n",
            "_________________________________________________________________\n",
            "block1_conv1 (Conv2D)        (None, 224, 224, 64)      1792      \n",
            "_________________________________________________________________\n",
            "block1_conv2 (Conv2D)        (None, 224, 224, 64)      36928     \n",
            "_________________________________________________________________\n",
            "block1_pool (MaxPooling2D)   (None, 112, 112, 64)      0         \n",
            "_________________________________________________________________\n",
            "block2_conv1 (Conv2D)        (None, 112, 112, 128)     73856     \n",
            "_________________________________________________________________\n",
            "block2_conv2 (Conv2D)        (None, 112, 112, 128)     147584    \n",
            "_________________________________________________________________\n",
            "block2_pool (MaxPooling2D)   (None, 56, 56, 128)       0         \n",
            "_________________________________________________________________\n",
            "block3_conv1 (Conv2D)        (None, 56, 56, 256)       295168    \n",
            "_________________________________________________________________\n",
            "block3_conv2 (Conv2D)        (None, 56, 56, 256)       590080    \n",
            "_________________________________________________________________\n",
            "block3_conv3 (Conv2D)        (None, 56, 56, 256)       590080    \n",
            "_________________________________________________________________\n",
            "block3_conv4 (Conv2D)        (None, 56, 56, 256)       590080    \n",
            "_________________________________________________________________\n",
            "block3_pool (MaxPooling2D)   (None, 28, 28, 256)       0         \n",
            "_________________________________________________________________\n",
            "block4_conv1 (Conv2D)        (None, 28, 28, 512)       1180160   \n",
            "_________________________________________________________________\n",
            "block4_conv2 (Conv2D)        (None, 28, 28, 512)       2359808   \n",
            "_________________________________________________________________\n",
            "block4_conv3 (Conv2D)        (None, 28, 28, 512)       2359808   \n",
            "_________________________________________________________________\n",
            "block4_conv4 (Conv2D)        (None, 28, 28, 512)       2359808   \n",
            "_________________________________________________________________\n",
            "block4_pool (MaxPooling2D)   (None, 14, 14, 512)       0         \n",
            "_________________________________________________________________\n",
            "block5_conv1 (Conv2D)        (None, 14, 14, 512)       2359808   \n",
            "_________________________________________________________________\n",
            "block5_conv2 (Conv2D)        (None, 14, 14, 512)       2359808   \n",
            "_________________________________________________________________\n",
            "block5_conv3 (Conv2D)        (None, 14, 14, 512)       2359808   \n",
            "_________________________________________________________________\n",
            "block5_conv4 (Conv2D)        (None, 14, 14, 512)       2359808   \n",
            "_________________________________________________________________\n",
            "block5_pool (MaxPooling2D)   (None, 7, 7, 512)         0         \n",
            "_________________________________________________________________\n",
            "global_max_pooling2d_1 (Glob (None, 512)               0         \n",
            "_________________________________________________________________\n",
            "dense_1 (Dense)              (None, 50)                25650     \n",
            "_________________________________________________________________\n",
            "dropout_1 (Dropout)          (None, 50)                0         \n",
            "_________________________________________________________________\n",
            "dense_2 (Dense)              (None, 30)                1530      \n",
            "_________________________________________________________________\n",
            "dropout_2 (Dropout)          (None, 30)                0         \n",
            "_________________________________________________________________\n",
            "dense_3 (Dense)              (None, 1)                 31        \n",
            "=================================================================\n",
            "Total params: 20,051,595\n",
            "Trainable params: 27,211\n",
            "Non-trainable params: 20,024,384\n",
            "_________________________________________________________________\n"
          ],
          "name": "stdout"
        }
      ]
    },
    {
      "cell_type": "code",
      "metadata": {
        "id": "z17FH1__yrAg",
        "colab_type": "code",
        "colab": {}
      },
      "source": [
        "adam=Adam()"
      ],
      "execution_count": 53,
      "outputs": []
    },
    {
      "cell_type": "code",
      "metadata": {
        "id": "SFyKZNP6yzB5",
        "colab_type": "code",
        "colab": {}
      },
      "source": [
        "model.compile(optimizer=adam,metrics=['accuracy'],loss='binary_crossentropy')"
      ],
      "execution_count": 54,
      "outputs": []
    },
    {
      "cell_type": "code",
      "metadata": {
        "id": "FjqnH5Jdzfoc",
        "colab_type": "code",
        "colab": {
          "base_uri": "https://localhost:8080/",
          "height": 1000
        },
        "outputId": "d5ed9012-d778-4490-aab6-0fd9d52cc086"
      },
      "source": [
        "history=model.fit(X_train,y_train,epochs=50,validation_data=(X_val,y_val))"
      ],
      "execution_count": 55,
      "outputs": [
        {
          "output_type": "stream",
          "text": [
            "Train on 1920 samples, validate on 480 samples\n",
            "Epoch 1/50\n",
            "1920/1920 [==============================] - 36s 19ms/step - loss: 0.7218 - accuracy: 0.5120 - val_loss: 0.6861 - val_accuracy: 0.5896\n",
            "Epoch 2/50\n",
            "1920/1920 [==============================] - 27s 14ms/step - loss: 0.6801 - accuracy: 0.5620 - val_loss: 0.6469 - val_accuracy: 0.6687\n",
            "Epoch 3/50\n",
            "1920/1920 [==============================] - 27s 14ms/step - loss: 0.6633 - accuracy: 0.5901 - val_loss: 0.6361 - val_accuracy: 0.6646\n",
            "Epoch 4/50\n",
            "1920/1920 [==============================] - 27s 14ms/step - loss: 0.6250 - accuracy: 0.6620 - val_loss: 0.5829 - val_accuracy: 0.7188\n",
            "Epoch 5/50\n",
            "1920/1920 [==============================] - 27s 14ms/step - loss: 0.5823 - accuracy: 0.7042 - val_loss: 0.5404 - val_accuracy: 0.7458\n",
            "Epoch 6/50\n",
            "1920/1920 [==============================] - 27s 14ms/step - loss: 0.5637 - accuracy: 0.7156 - val_loss: 0.5006 - val_accuracy: 0.7875\n",
            "Epoch 7/50\n",
            "1920/1920 [==============================] - 27s 14ms/step - loss: 0.5375 - accuracy: 0.7354 - val_loss: 0.4858 - val_accuracy: 0.7792\n",
            "Epoch 8/50\n",
            "1920/1920 [==============================] - 27s 14ms/step - loss: 0.5123 - accuracy: 0.7615 - val_loss: 0.4825 - val_accuracy: 0.7792\n",
            "Epoch 9/50\n",
            "1920/1920 [==============================] - 27s 14ms/step - loss: 0.5103 - accuracy: 0.7578 - val_loss: 0.4836 - val_accuracy: 0.7688\n",
            "Epoch 10/50\n",
            "1920/1920 [==============================] - 27s 14ms/step - loss: 0.5136 - accuracy: 0.7604 - val_loss: 0.4524 - val_accuracy: 0.8042\n",
            "Epoch 11/50\n",
            "1920/1920 [==============================] - 27s 14ms/step - loss: 0.4695 - accuracy: 0.7885 - val_loss: 0.4710 - val_accuracy: 0.7604\n",
            "Epoch 12/50\n",
            "1920/1920 [==============================] - 27s 14ms/step - loss: 0.4723 - accuracy: 0.7766 - val_loss: 0.4454 - val_accuracy: 0.8250\n",
            "Epoch 13/50\n",
            "1920/1920 [==============================] - 27s 14ms/step - loss: 0.4934 - accuracy: 0.7714 - val_loss: 0.5249 - val_accuracy: 0.7167\n",
            "Epoch 14/50\n",
            "1920/1920 [==============================] - 27s 14ms/step - loss: 0.4842 - accuracy: 0.7703 - val_loss: 0.4441 - val_accuracy: 0.8021\n",
            "Epoch 15/50\n",
            "1920/1920 [==============================] - 27s 14ms/step - loss: 0.4483 - accuracy: 0.7922 - val_loss: 0.4161 - val_accuracy: 0.8125\n",
            "Epoch 16/50\n",
            "1920/1920 [==============================] - 27s 14ms/step - loss: 0.4274 - accuracy: 0.8094 - val_loss: 0.4063 - val_accuracy: 0.8104\n",
            "Epoch 17/50\n",
            "1920/1920 [==============================] - 27s 14ms/step - loss: 0.4111 - accuracy: 0.8286 - val_loss: 0.4317 - val_accuracy: 0.7917\n",
            "Epoch 18/50\n",
            "1920/1920 [==============================] - 27s 14ms/step - loss: 0.4003 - accuracy: 0.8297 - val_loss: 0.3924 - val_accuracy: 0.8313\n",
            "Epoch 19/50\n",
            "1920/1920 [==============================] - 27s 14ms/step - loss: 0.4275 - accuracy: 0.8068 - val_loss: 0.3986 - val_accuracy: 0.8229\n",
            "Epoch 20/50\n",
            "1920/1920 [==============================] - 27s 14ms/step - loss: 0.4080 - accuracy: 0.8208 - val_loss: 0.3989 - val_accuracy: 0.8333\n",
            "Epoch 21/50\n",
            "1920/1920 [==============================] - 27s 14ms/step - loss: 0.4235 - accuracy: 0.7964 - val_loss: 0.4018 - val_accuracy: 0.8062\n",
            "Epoch 22/50\n",
            "1920/1920 [==============================] - 27s 14ms/step - loss: 0.4118 - accuracy: 0.7948 - val_loss: 0.4139 - val_accuracy: 0.7812\n",
            "Epoch 23/50\n",
            "1920/1920 [==============================] - 26s 14ms/step - loss: 0.3950 - accuracy: 0.8313 - val_loss: 0.3881 - val_accuracy: 0.8229\n",
            "Epoch 24/50\n",
            "1920/1920 [==============================] - 27s 14ms/step - loss: 0.3691 - accuracy: 0.8406 - val_loss: 0.3720 - val_accuracy: 0.8438\n",
            "Epoch 25/50\n",
            "1920/1920 [==============================] - 27s 14ms/step - loss: 0.3896 - accuracy: 0.8302 - val_loss: 0.3756 - val_accuracy: 0.8125\n",
            "Epoch 26/50\n",
            "1920/1920 [==============================] - 27s 14ms/step - loss: 0.3962 - accuracy: 0.8156 - val_loss: 0.3717 - val_accuracy: 0.8521\n",
            "Epoch 27/50\n",
            "1920/1920 [==============================] - 27s 14ms/step - loss: 0.4126 - accuracy: 0.7990 - val_loss: 0.3704 - val_accuracy: 0.8333\n",
            "Epoch 28/50\n",
            "1920/1920 [==============================] - 27s 14ms/step - loss: 0.3802 - accuracy: 0.8307 - val_loss: 0.3829 - val_accuracy: 0.8062\n",
            "Epoch 29/50\n",
            "1920/1920 [==============================] - 27s 14ms/step - loss: 0.3654 - accuracy: 0.8344 - val_loss: 0.4020 - val_accuracy: 0.8333\n",
            "Epoch 30/50\n",
            "1920/1920 [==============================] - 27s 14ms/step - loss: 0.3424 - accuracy: 0.8453 - val_loss: 0.3714 - val_accuracy: 0.8500\n",
            "Epoch 31/50\n",
            "1920/1920 [==============================] - 27s 14ms/step - loss: 0.3661 - accuracy: 0.8401 - val_loss: 0.3921 - val_accuracy: 0.7979\n",
            "Epoch 32/50\n",
            "1920/1920 [==============================] - 27s 14ms/step - loss: 0.3612 - accuracy: 0.8271 - val_loss: 0.3558 - val_accuracy: 0.8458\n",
            "Epoch 33/50\n",
            "1920/1920 [==============================] - 27s 14ms/step - loss: 0.3428 - accuracy: 0.8578 - val_loss: 0.3674 - val_accuracy: 0.8354\n",
            "Epoch 34/50\n",
            "1920/1920 [==============================] - 27s 14ms/step - loss: 0.3406 - accuracy: 0.8526 - val_loss: 0.3618 - val_accuracy: 0.8229\n",
            "Epoch 35/50\n",
            "1920/1920 [==============================] - 27s 14ms/step - loss: 0.3867 - accuracy: 0.8109 - val_loss: 0.3671 - val_accuracy: 0.8208\n",
            "Epoch 36/50\n",
            "1920/1920 [==============================] - 27s 14ms/step - loss: 0.3331 - accuracy: 0.8490 - val_loss: 0.3617 - val_accuracy: 0.8500\n",
            "Epoch 37/50\n",
            "1920/1920 [==============================] - 27s 14ms/step - loss: 0.3488 - accuracy: 0.8260 - val_loss: 0.3814 - val_accuracy: 0.8083\n",
            "Epoch 38/50\n",
            "1920/1920 [==============================] - 27s 14ms/step - loss: 0.3948 - accuracy: 0.8042 - val_loss: 0.3731 - val_accuracy: 0.8313\n",
            "Epoch 39/50\n",
            "1920/1920 [==============================] - 27s 14ms/step - loss: 0.3841 - accuracy: 0.8286 - val_loss: 0.3615 - val_accuracy: 0.8354\n",
            "Epoch 40/50\n",
            "1920/1920 [==============================] - 27s 14ms/step - loss: 0.3338 - accuracy: 0.8500 - val_loss: 0.3562 - val_accuracy: 0.8417\n",
            "Epoch 41/50\n",
            "1920/1920 [==============================] - 27s 14ms/step - loss: 0.3180 - accuracy: 0.8620 - val_loss: 0.3580 - val_accuracy: 0.8313\n",
            "Epoch 42/50\n",
            "1920/1920 [==============================] - 27s 14ms/step - loss: 0.3413 - accuracy: 0.8500 - val_loss: 0.4000 - val_accuracy: 0.7896\n",
            "Epoch 43/50\n",
            "1920/1920 [==============================] - 27s 14ms/step - loss: 0.3484 - accuracy: 0.8396 - val_loss: 0.3712 - val_accuracy: 0.8313\n",
            "Epoch 44/50\n",
            "1920/1920 [==============================] - 27s 14ms/step - loss: 0.3465 - accuracy: 0.8474 - val_loss: 0.3957 - val_accuracy: 0.8083\n",
            "Epoch 45/50\n",
            "1920/1920 [==============================] - 27s 14ms/step - loss: 0.3152 - accuracy: 0.8635 - val_loss: 0.3539 - val_accuracy: 0.8562\n",
            "Epoch 46/50\n",
            "1920/1920 [==============================] - 27s 14ms/step - loss: 0.3227 - accuracy: 0.8557 - val_loss: 0.3611 - val_accuracy: 0.8354\n",
            "Epoch 47/50\n",
            "1920/1920 [==============================] - 27s 14ms/step - loss: 0.3460 - accuracy: 0.8583 - val_loss: 0.3580 - val_accuracy: 0.8521\n",
            "Epoch 48/50\n",
            "1920/1920 [==============================] - 27s 14ms/step - loss: 0.3757 - accuracy: 0.8271 - val_loss: 0.3588 - val_accuracy: 0.8313\n",
            "Epoch 49/50\n",
            "1920/1920 [==============================] - 27s 14ms/step - loss: 0.3656 - accuracy: 0.8401 - val_loss: 0.3576 - val_accuracy: 0.8458\n",
            "Epoch 50/50\n",
            "1920/1920 [==============================] - 27s 14ms/step - loss: 0.3398 - accuracy: 0.8521 - val_loss: 0.3616 - val_accuracy: 0.8396\n"
          ],
          "name": "stdout"
        }
      ]
    },
    {
      "cell_type": "code",
      "metadata": {
        "id": "NMnhHo9R-aJT",
        "colab_type": "code",
        "colab": {}
      },
      "source": [
        "ta=history.history['accuracy']\n",
        "va=history.history['val_accuracy']"
      ],
      "execution_count": 57,
      "outputs": []
    },
    {
      "cell_type": "code",
      "metadata": {
        "id": "4w26WKC8SPNm",
        "colab_type": "code",
        "colab": {
          "base_uri": "https://localhost:8080/",
          "height": 312
        },
        "outputId": "c7b08c0d-d23b-405e-a74e-c369a7bcdb97"
      },
      "source": [
        "plt.plot(ta,label='TrainAccuracy')\n",
        "plt.plot(va,label='ValAccuracy')\n",
        "plt.legend()\n",
        "plt.title('Train Accuracy vs Vaidation Accuracy')\n",
        "plt.xlabel('epochs')\n",
        "plt.ylabel('Accuracy')"
      ],
      "execution_count": 71,
      "outputs": [
        {
          "output_type": "execute_result",
          "data": {
            "text/plain": [
              "Text(0, 0.5, 'Accuracy')"
            ]
          },
          "metadata": {
            "tags": []
          },
          "execution_count": 71
        },
        {
          "output_type": "display_data",
          "data": {
            "image/png": "[encoded data removed]",
            "text/plain": [
              "<Figure size 432x288 with 1 Axes>"
            ]
          },
          "metadata": {
            "tags": [],
            "needs_background": "light"
          }
        }
      ]
    },
    {
      "cell_type": "code",
      "metadata": {
        "id": "NpiQdCWJNZYT",
        "colab_type": "code",
        "colab": {}
      },
      "source": [
        "tl=history.history['loss']\n",
        "vl=history.history['val_loss']"
      ],
      "execution_count": 72,
      "outputs": []
    },
    {
      "cell_type": "code",
      "metadata": {
        "id": "ONCEEA6vLK9M",
        "colab_type": "code",
        "colab": {
          "base_uri": "https://localhost:8080/",
          "height": 312
        },
        "outputId": "7280fa2a-a3cf-4c34-c5a8-c367048b51a6"
      },
      "source": [
        "plt.plot(tl,label='TrainLoss')\n",
        "plt.plot(vl,label='ValLoss')\n",
        "plt.legend()\n",
        "plt.title('Train Loss vs Vaidation Loss')\n",
        "plt.xlabel('epochs')\n",
        "plt.ylabel('Loss')"
      ],
      "execution_count": 73,
      "outputs": [
        {
          "output_type": "execute_result",
          "data": {
            "text/plain": [
              "Text(0, 0.5, 'Loss')"
            ]
          },
          "metadata": {
            "tags": []
          },
          "execution_count": 73
        },
        {
          "output_type": "display_data",
          "data": {
            "image/png": "[encoded data removed]",
            "text/plain": [
              "<Figure size 432x288 with 1 Axes>"
            ]
          },
          "metadata": {
            "tags": [],
            "needs_background": "light"
          }
        }
      ]
    },
    {
      "cell_type": "code",
      "metadata": {
        "id": "J2_9Ih7jNsA0",
        "colab_type": "code",
        "colab": {}
      },
      "source": [
        "test_pred=model.predict(X_test)"
      ],
      "execution_count": 74,
      "outputs": []
    },
    {
      "cell_type": "code",
      "metadata": {
        "id": "-ae5RaF5QJ5e",
        "colab_type": "code",
        "colab": {}
      },
      "source": [
        "predictions=[]"
      ],
      "execution_count": 75,
      "outputs": []
    },
    {
      "cell_type": "code",
      "metadata": {
        "id": "h4Bk3jVyP_-v",
        "colab_type": "code",
        "colab": {}
      },
      "source": [
        "for i in test_pred:\n",
        "  if i>0.5:\n",
        "    predictions.append(1)\n",
        "  else:\n",
        "    predictions.append(0)  \n"
      ],
      "execution_count": 76,
      "outputs": []
    },
    {
      "cell_type": "code",
      "metadata": {
        "id": "RNI_nW93QTAR",
        "colab_type": "code",
        "colab": {
          "base_uri": "https://localhost:8080/",
          "height": 34
        },
        "outputId": "c979c1d1-3921-4b09-e68d-19b4114992d3"
      },
      "source": [
        "type(y_test)"
      ],
      "execution_count": 79,
      "outputs": [
        {
          "output_type": "execute_result",
          "data": {
            "text/plain": [
              "numpy.ndarray"
            ]
          },
          "metadata": {
            "tags": []
          },
          "execution_count": 79
        }
      ]
    },
    {
      "cell_type": "code",
      "metadata": {
        "id": "Lw24sGaMQUtm",
        "colab_type": "code",
        "colab": {}
      },
      "source": [
        "predictions=np.array(predictions)"
      ],
      "execution_count": 80,
      "outputs": []
    },
    {
      "cell_type": "code",
      "metadata": {
        "id": "XVBjzX5xQjOl",
        "colab_type": "code",
        "colab": {}
      },
      "source": [
        "from sklearn.metrics import classification_report,confusion_matrix"
      ],
      "execution_count": 81,
      "outputs": []
    },
    {
      "cell_type": "code",
      "metadata": {
        "id": "MDaHGQrsQrmP",
        "colab_type": "code",
        "colab": {
          "base_uri": "https://localhost:8080/",
          "height": 170
        },
        "outputId": "ddd2ff48-d7cd-4523-d98d-35fd6bfa34ae"
      },
      "source": [
        "print(classification_report(y_test,predictions))"
      ],
      "execution_count": 83,
      "outputs": [
        {
          "output_type": "stream",
          "text": [
            "              precision    recall  f1-score   support\n",
            "\n",
            "           0       0.88      0.83      0.86       301\n",
            "           1       0.84      0.88      0.86       299\n",
            "\n",
            "    accuracy                           0.86       600\n",
            "   macro avg       0.86      0.86      0.86       600\n",
            "weighted avg       0.86      0.86      0.86       600\n",
            "\n"
          ],
          "name": "stdout"
        }
      ]
    },
    {
      "cell_type": "code",
      "metadata": {
        "id": "VmWeq3pWQvuB",
        "colab_type": "code",
        "colab": {
          "base_uri": "https://localhost:8080/",
          "height": 51
        },
        "outputId": "06019ee6-f994-4d39-fed8-1466f9f9f252"
      },
      "source": [
        "confusion_matrix(y_test,predictions)"
      ],
      "execution_count": 84,
      "outputs": [
        {
          "output_type": "execute_result",
          "data": {
            "text/plain": [
              "array([[251,  50],\n",
              "       [ 35, 264]])"
            ]
          },
          "metadata": {
            "tags": []
          },
          "execution_count": 84
        }
      ]
    },
    {
      "cell_type": "code",
      "metadata": {
        "id": "-cqbfljwTDT1",
        "colab_type": "code",
        "colab": {}
      },
      "source": [
        ""
      ],
      "execution_count": null,
      "outputs": []
    }
  ]
}